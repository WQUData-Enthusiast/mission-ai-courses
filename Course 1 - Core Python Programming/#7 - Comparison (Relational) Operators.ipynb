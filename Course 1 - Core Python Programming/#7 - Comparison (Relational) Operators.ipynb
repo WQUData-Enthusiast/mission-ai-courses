{
 "cells": [
  {
   "cell_type": "markdown",
   "metadata": {},
   "source": [
    "# Module 7 - Comparison/Relational Operators\n",
    "---\n",
    "\n",
    "In this module, we will explore the operators that Python provides to compare values. "
   ]
  },
  {
   "cell_type": "markdown",
   "metadata": {},
   "source": [
    "Python's comparison operators are used to `perform comparisons` on variables. They test if a condition is true or false. The result of an expression that contains these operators is always a Boolean (True/False).\n",
    "<table style=\"float:left;width:40%;font-size:100%;\">\n",
    "<tr>\n",
    "<th>Operator</th>\n",
    "<th>Condition checked</th>\n",
    "</tr>\n",
    "\n",
    "<tr>\n",
    "<td>></td>\n",
    "<td>greater than</td>\n",
    "</tr>\n",
    "\n",
    "<tr>\n",
    "<td>>=</td>\n",
    "<td>greater than or equal to</td>\n",
    "</tr>\n",
    "\n",
    "<tr>\n",
    "<td>&#60;</td>\n",
    "<td>less than</td>\n",
    "</tr>\n",
    "\n",
    "<tr>\n",
    "<td>&#60;=</td>\n",
    "<td>less than or equal to</td>\n",
    "</tr>\n",
    "    \n",
    "<tr>\n",
    "<td>==</td>\n",
    "<td>equal to</td>\n",
    "</tr>\n",
    "\n",
    "<tr>\n",
    "<td>!=</td>\n",
    "<td>not equal to</td>\n",
    "</tr>\n",
    "    \n",
    "</table>"
   ]
  },
  {
   "cell_type": "code",
   "execution_count": 2,
   "metadata": {},
   "outputs": [],
   "source": [
    "# Exercises\n",
    "\n",
    "# 1. Company X sold 2,000 toys at Rs. 450 per toy. Company Y sold 3,500 toys at Rs. 300 per toy. \n",
    "# Is the following statement true or false: \"Company X has lower revenue from toys than Company Y\"?\n"
   ]
  },
  {
   "cell_type": "code",
   "execution_count": 3,
   "metadata": {},
   "outputs": [],
   "source": [
    "# 2. A school is raising money for charity. \n",
    "# 9th grade has 60 students who gave an average of Rs. 150 each.\n",
    "# 10th grade has 90 students who gave an average if Rs. 100 each. \n",
    "\n",
    "# a) Is this statement true or false: \"10th graders (totally) gave at least as much as 9th graders, if not more\"?\n",
    "\n",
    "# b) Is the following statement true or false: \"10th graders (totally) gave exactly as much as 9th graders\"?\n"
   ]
  },
  {
   "cell_type": "code",
   "execution_count": null,
   "metadata": {},
   "outputs": [],
   "source": [
    "# 3. Is this statement true or false: \"The 4th power of 2 is not equal to the 2nd power of 4\"?\n"
   ]
  },
  {
   "cell_type": "markdown",
   "metadata": {},
   "source": [
    "### *Congratulations! You now know how to use comparison operators in Python. Keep going!*\n"
   ]
  }
 ],
 "metadata": {
  "kernelspec": {
   "display_name": "Python 3",
   "language": "python",
   "name": "python3"
  },
  "language_info": {
   "codemirror_mode": {
    "name": "ipython",
    "version": 3
   },
   "file_extension": ".py",
   "mimetype": "text/x-python",
   "name": "python",
   "nbconvert_exporter": "python",
   "pygments_lexer": "ipython3",
   "version": "3.7.5"
  }
 },
 "nbformat": 4,
 "nbformat_minor": 2
}
