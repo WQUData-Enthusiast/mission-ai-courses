{
 "cells": [
  {
   "cell_type": "markdown",
   "metadata": {},
   "source": [
    "# Module 11 - Strings (Part 1) - Initialize, escaping, concatenation, index, slice\n",
    "---\n",
    "This module will get you up to speed with Python String data type that also functions like a collection. We will also explore the operations that we can do on strings."
   ]
  },
  {
   "cell_type": "markdown",
   "metadata": {},
   "source": [
    "## 1) String basics\n",
    "\n",
    "The String data type holds `text data`, i.e., its contents are treated as a sequence of characters. Python does not have a character data type, so every character is treated as a string of length 1. While String can be treated like a basic data type, it also has numerous operations that are similar to the \"List\" data type. For that reason, it is included in this module on Python collections. Strings are immutable, i.e., you cannot change the vaule of string once it is created.\n"
   ]
  },
  {
   "cell_type": "markdown",
   "metadata": {},
   "source": [
    "## 2) Initializing strings:\n",
    "```Python\n",
    "# Different ways of initializing a string\n",
    "\n",
    "# initialize using single quotes\n",
    "str_1 = 'This string was initialized using quotes'\n",
    "print(str_1)\n",
    "\n",
    "# initialize using double quotes \n",
    "str_2 = \"This string was initialized using quotes\"\n",
    "print(str_2)\n",
    "\n",
    "# Are these strings identical? We can use the == or != comparison operators  to check \n",
    "print(str_1 == str_2)\n",
    "print(Str_1 != str_2)\n",
    "\n",
    "# what if the text contains an apostrophe? Then use double quotes while initilizing the string! Else it throws an error.\n",
    "str_3 = \"Python's strings are used to store text data\"\n",
    "print(str_3)\n",
    "\n",
    "# what if the text contains a sentence that is enclosed by double quotes? Use single quotes while initializing. \n",
    "str_4 = 'He said \"Please give me my phone back\"'\n",
    "print(str_4)\n",
    "\n",
    "# What if we have multi-line text? In this case, we need to initialize the string using triple quotes (single or double)\n",
    "str_5 = \"\"\"\n",
    "This is a multi-line\n",
    "piece of text data\n",
    "\"\"\"\n",
    "print(str_5)\n",
    "\n",
    "str_6 = '''\n",
    "This is also a multi-line \n",
    "string that we will initialize\n",
    "using 3 single quotes\n",
    "'''\n",
    "print(str_6)\n",
    "```"
   ]
  },
  {
   "cell_type": "code",
   "execution_count": 1,
   "metadata": {},
   "outputs": [],
   "source": [
    "# Exercises\n",
    "\n",
    "# 1. Initialize the following string:    The company performed well in the last quarter.\n",
    "# Will you use single or double quotes ?\n"
   ]
  },
  {
   "cell_type": "code",
   "execution_count": 2,
   "metadata": {},
   "outputs": [],
   "source": [
    "# 2. Initialize the following string:    Apple's competitors include Samsung and Huawei.\n",
    "# Will you use single or double quotes ?\n"
   ]
  },
  {
   "cell_type": "code",
   "execution_count": 3,
   "metadata": {},
   "outputs": [],
   "source": [
    "# 3. Initilize the following string:    He said \"Please come to work on time\".\n",
    "# Will you use single or double quotes?\n"
   ]
  },
  {
   "cell_type": "code",
   "execution_count": 4,
   "metadata": {},
   "outputs": [],
   "source": [
    "# 4. Initialize the following paragraph as a single string:\n",
    "# This is the best office in the world.\n",
    "# They have sleeping pods, table tennis and free food.\n"
   ]
  },
  {
   "cell_type": "markdown",
   "metadata": {},
   "source": [
    "## 3) String escaping:\n",
    "\n",
    "```Python\n",
    "# One way to deal with single quotes, double quotes and whitespace characters (tab, newline) is using \"escaping\"\n",
    "# We can 'escape' characters using backslash '\\'. \n",
    "str_7 = \"He said \\\"Please give me my phone back\\\"\"\n",
    "print(str_7)\n",
    "# Here, the double quotes inside the string would have normally terminated the string. \n",
    "# But using the backslash, we are telling Python to treat it as a character that is part of the string. \n",
    "\n",
    "# There are 2 character sequences that have a special meaning:\n",
    "# \\n is the newline sequence. Using it in a string is the equivalent of pressing 'Enter'\n",
    "# \\t is the tab sequence. Using it in a string is the equivalent of pressing 'Tab'\n",
    "str_8 = \" This is the 1st line.\\n This is the 2nd line \\t that contains a tab\"\n",
    "print(str_8)\n",
    "\n",
    "# So when it comes to strings, the 2 main characters that have special meaning are double/single quote \" and backslash \\\n",
    "# If you want them to appear as-is, escape them with a backslash\n",
    "str_9 = \"This is how to use \\\"Escape Characters\\\", Backslashes \\\\\\\\, tabs \\t, and newline \\n. done !\"\n",
    "print(str_9)\n",
    "\n",
    "# if you want the contents of the string (including backslashes) to be interpreted exactly as-is, use 'r' or 'R' before \n",
    "# declaring the string literal\n",
    "str_10 = r\"This is how to use \\\"Escape Characters\\\", Backslashes \\\\\\\\, tabs \\t, and newline \\n. done !\"\n",
    "print(str_10)\n",
    "```"
   ]
  },
  {
   "cell_type": "code",
   "execution_count": 5,
   "metadata": {},
   "outputs": [],
   "source": [
    "# Exercises\n",
    "\n",
    "# 1. Initialize the following string using string escaping:    He said \"Please come to work on time\".\n"
   ]
  },
  {
   "cell_type": "code",
   "execution_count": 6,
   "metadata": {},
   "outputs": [],
   "source": [
    "# 2. Initialize the following string with each sentence on a separate line:\n",
    "# This is the first line. This is the second line\n"
   ]
  },
  {
   "cell_type": "code",
   "execution_count": 7,
   "metadata": {},
   "outputs": [],
   "source": [
    "# 3. Initialze a string with the following 5 words each separated by a tab:    This is five words long \n"
   ]
  },
  {
   "cell_type": "code",
   "execution_count": 8,
   "metadata": {},
   "outputs": [],
   "source": [
    "# 4. Initialize the following string using string escaping:    \n",
    "# This is a double-quote \", this is a backslash \\, this is the newline character \\n, and this is a tab \\t\n"
   ]
  },
  {
   "cell_type": "code",
   "execution_count": 9,
   "metadata": {},
   "outputs": [],
   "source": [
    "# 5. Write the same initialization code as above, but this time put an 'r' or 'R' before the string.\n",
    "# Is the output any different? \n"
   ]
  },
  {
   "cell_type": "markdown",
   "metadata": {},
   "source": [
    "## 4) Concatenation:\n",
    "```Python\n",
    "# Concatenating or joining strings together using '+'\n",
    "str_11 = \"Hello \"\n",
    "str_12 = \"world!\"\n",
    "print(str_11 + str_12)\n",
    "print(str_11 + str_12 + \" \" + str_11 + str_12)\n",
    "\n",
    "# Remember that only string values can be concatenated. The following statement throws an error\n",
    "print (str_11 + 5)\n",
    "# Solution: Converting from numerical values to string - str()\n",
    "print(str_11 + str(5))\n",
    "\n",
    "# repeating a string 'N' times - use the multiplication operator '*'\n",
    "print(\"hello \" *5)\n",
    "```"
   ]
  },
  {
   "cell_type": "code",
   "execution_count": 10,
   "metadata": {},
   "outputs": [],
   "source": [
    "# Exercises\n",
    "\n",
    "# 1. Initialize 3 strings with the the following contents: \"Python\", \"is\", \"awesome\"\n",
    "# Print out the sentence \"Python is awesome\" using the above strings and the '+' concatenation operator\n"
   ]
  },
  {
   "cell_type": "code",
   "execution_count": 11,
   "metadata": {},
   "outputs": [],
   "source": [
    "# 2. Create a variable 'x' with the value 10. Now print out: \"Hello, contestant #10\" using the variable 'x' \n"
   ]
  },
  {
   "cell_type": "code",
   "execution_count": 12,
   "metadata": {},
   "outputs": [],
   "source": [
    "# 3. Ask the user to input a word. The output should be the string: \"Here is the echo: \" followed by the word repeated thrice\n"
   ]
  },
  {
   "cell_type": "markdown",
   "metadata": {},
   "source": [
    "### 5) Strings as a sequence - Indexing & Slicing:\n",
    "\n",
    "Each character in a string has a position or `index`. The 1st character has an index of 0, the 2nd character has an index of 1 and so on. The last character has an index of n-1, where 'n' is the length of the string.\n",
    "\n",
    "```Python\n",
    "# find the length of a string\n",
    "print(len(\"Hello world!\"))\n",
    "\n",
    "# strings as a sequence: A string of length 'N' has 'N' characters, numbered from 0 to 'N-1'\n",
    "seq = \"abcdefghij\"\n",
    "\n",
    "# get the Nth character in the string. The following operations are called \"indexing\"\n",
    "print(seq[0]) # returns the 1st character\n",
    "print(seq[5]) # returns the 6th character\n",
    "print(seq[len(seq)-1] # gives the last character\n",
    "print(seq[-1]) # better way of getting the last character # negative indexing\n",
    "print(seq[-2]) # gives the 2nd-from-last character\n",
    "\n",
    "\n",
    "# get a range of characters from the string. The following operations are called 'subsetting' or 'slicing'      \n",
    "# str[m:n] gives all characters starting from the character at index 'm' to index 'n-1'\n",
    "print(seq[0:2]) # 1st 2 characters of the string\n",
    "print(seq[:2] # same as above\n",
    "print(seq[5:8]) # 3 characters (with indexes 5,6,7)\n",
    "print(seq[3:]) # everything excepting the first 3 characters\n",
    "print(seq[:]) # returns the entire string\n",
    "print(seq[::2]) # every 2nd character in the entire string\n",
    "print(seq[::-1]) # entire string reversed\n",
    "      \n",
    "```"
   ]
  },
  {
   "cell_type": "code",
   "execution_count": 13,
   "metadata": {},
   "outputs": [],
   "source": [
    "# Exercises\n",
    "\n",
    "# 1a. Declare a string 's' that has the value \"abcdefghijklmnopqrstuvwxyz\"\n",
    "\n",
    "\n",
    "# 1b. Find the length of the string 's'\n",
    "\n",
    "\n",
    "# 1c. What is the 2nd character in the string?\n",
    "\n",
    "\n",
    "# 1d. What is the 2nd-from-last character in the string?\n",
    "\n",
    "\n",
    "# 1e. Print out the 1st 4 characters of the string \n",
    "\n",
    "\n",
    "# 1f. Print out the part of the string from the 7th character to the 11th character (included)\n",
    "\n",
    "\n",
    "# 1g. Print out the entire string without the first 4 characters\n",
    "\n",
    "\n",
    "# 1i. Print out every third character in the string\n",
    "\n",
    "\n",
    "# 1j. Print out the string reversed\n",
    "\n"
   ]
  },
  {
   "cell_type": "markdown",
   "metadata": {},
   "source": [
    "### *Congratulations! You have learnt how to initialize and escape strings, as well as perform operations and index/slice!*"
   ]
  }
 ],
 "metadata": {
  "kernelspec": {
   "display_name": "Python 3",
   "language": "python",
   "name": "python3"
  },
  "language_info": {
   "codemirror_mode": {
    "name": "ipython",
    "version": 3
   },
   "file_extension": ".py",
   "mimetype": "text/x-python",
   "name": "python",
   "nbconvert_exporter": "python",
   "pygments_lexer": "ipython3",
   "version": "3.7.5"
  }
 },
 "nbformat": 4,
 "nbformat_minor": 2
}
