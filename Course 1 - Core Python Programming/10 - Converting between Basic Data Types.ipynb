{
 "cells": [
  {
   "cell_type": "markdown",
   "metadata": {},
   "source": [
    "# Module 10 - Converting between basic data types\n",
    "---\n"
   ]
  },
  {
   "cell_type": "markdown",
   "metadata": {},
   "source": [
    "## 1) Converting to Integer - int(): \n",
    "\n",
    "The int() function is basically a `constructor` for an Integer object. When we pass a float value to the int() function, the decimal part of the float value gets dropped, leaving only the integer part.\n",
    "\n",
    "```Python\n",
    "x=int(5.5)\n",
    "print(x)\n",
    "print(type(x))\n",
    "\n",
    "x=int(-0.2)\n",
    "print(x)\n",
    "```\n",
    "\n",
    "When we pass a number stored as a string to the int() function, it converts the string to an integer. It throws an error if the string cannot be converted to an integer.\n",
    "\n",
    "```Python\n",
    "x=int(\"734\")\n",
    "print(x)\n",
    "\n",
    "print(type(\"734\"))\n",
    "print(type(x))\n",
    "```"
   ]
  },
  {
   "cell_type": "code",
   "execution_count": 1,
   "metadata": {},
   "outputs": [],
   "source": [
    "# Exercise\n",
    "\n",
    "# 1. convert the value 7.25 to an integer\n"
   ]
  },
  {
   "cell_type": "code",
   "execution_count": 2,
   "metadata": {},
   "outputs": [],
   "source": [
    "# 2. convert the string \"7.25a\" to an integer. Does it throw an error? Now try with the string \"7.25\"\n"
   ]
  },
  {
   "cell_type": "markdown",
   "metadata": {},
   "source": [
    "## 2) Converting to Float - float(): \n",
    "\n",
    "The float() function is a `constructor` for a Float object. When we pass an integer value to the float() function, it converts it to a float data type with decimal part.\n",
    "\n",
    "```Python\n",
    "x=float(5)\n",
    "print(x)\n",
    "\n",
    "```\n",
    "\n",
    "When we pass a number stored as a string to the float() function, it converts the string to a float. It throws an error if the string cannot be converted to a float.\n",
    "\n",
    "```Python\n",
    "x=float(\"7.34\")\n",
    "print(x)\n",
    "\n",
    "print(type(\"7.34\"))\n",
    "print(type(x))\n",
    "```"
   ]
  },
  {
   "cell_type": "code",
   "execution_count": 3,
   "metadata": {},
   "outputs": [],
   "source": [
    "# Exercise\n",
    "\n",
    "# 1. convert the value 8 to an float\n"
   ]
  },
  {
   "cell_type": "code",
   "execution_count": 4,
   "metadata": {},
   "outputs": [],
   "source": [
    "# 2. convert the string \"8.5abc\" to a float. Does it throw an error? Now try with the string \"8.5\"\n"
   ]
  },
  {
   "cell_type": "markdown",
   "metadata": {},
   "source": [
    "## 3) Converting to Boolean - bool(): \n",
    "\n",
    "The bool() function is a `constructor` for a Boolean object. When we pass any non-zero numerical value to the bool() function, it returns True. Else it returns False.\n",
    "\n",
    "```Python\n",
    "x=bool(4.3)\n",
    "print(x)\n",
    "\n",
    "x=bool(-0.2)\n",
    "print(x)\n",
    "\n",
    "x=bool(0)\n",
    "print(x)\n",
    "```\n",
    "\n",
    "We can use these functions whenever we need to ensure that certain types of data conform to certain data types. Remember to always pass compatible data types as arguments to the respective functions while converting."
   ]
  },
  {
   "cell_type": "code",
   "execution_count": 5,
   "metadata": {},
   "outputs": [],
   "source": [
    "# Exercise\n",
    "\n",
    "# 1. ask the user to input a number. If the number is 0, print 'False'. Otherwise print 'True'. \n",
    "# (Remember to convert the input string to a number)\n"
   ]
  },
  {
   "cell_type": "markdown",
   "metadata": {},
   "source": [
    "### *Congratulations! You have learnt how to convert variables from one basic data type to another.*"
   ]
  }
 ],
 "metadata": {
  "kernelspec": {
   "display_name": "Python 3",
   "language": "python",
   "name": "python3"
  },
  "language_info": {
   "codemirror_mode": {
    "name": "ipython",
    "version": 3
   },
   "file_extension": ".py",
   "mimetype": "text/x-python",
   "name": "python",
   "nbconvert_exporter": "python",
   "pygments_lexer": "ipython3",
   "version": "3.7.5"
  }
 },
 "nbformat": 4,
 "nbformat_minor": 2
}
