{
 "cells": [
  {
   "cell_type": "markdown",
   "metadata": {},
   "source": [
    "# Module 8 - Logical Operators\n",
    "---\n",
    "\n",
    "In this module, we will explore the logical operators that Python provides. "
   ]
  },
  {
   "cell_type": "markdown",
   "metadata": {},
   "source": [
    "These operators are used to `combine multiple logical conditions` in different ways. Remember, the outcome of a condition is a Boolean. So the Logical Operators basically work on Boolean variables. The result of these expressions is always a Boolean (True/False).\n",
    "<table style=\"float:left;width:80%;font-size:100%;\">\n",
    "<tr>\n",
    "<th style=\"width: 15%\">Operator</th>\n",
    "<th style=\"width: 20%\">Operation</th>\n",
    "<th style=\"width: 65%\">Description</th>\n",
    "</tr>\n",
    "\n",
    "<tr>\n",
    "<td>and</td>\n",
    "<td>Logical AND</td>\n",
    "<td>Returns True ONLY if all inputs are True. Else returns FALSE</td>\n",
    "</tr>\n",
    "\n",
    "<tr>\n",
    "<td>or</td>\n",
    "<td>Logical OR</td>\n",
    "<td>Returns False ONLY if all inputs are False. Else returns TRUE</td>\n",
    "</tr>\n",
    "\n",
    "<tr>\n",
    "<td>not</td>\n",
    "<td>Logical NOT</td>\n",
    "<td>Returns the complement. Returns False if the input is True and vice-versa</td>\n",
    "</tr>\n",
    "\n",
    "</table>"
   ]
  },
  {
   "cell_type": "code",
   "execution_count": 1,
   "metadata": {},
   "outputs": [],
   "source": [
    "# Exercises\n",
    "\n",
    "# 1. A man's weight is 80kgs. \n",
    "\n",
    "# a) Using the 'AND' operator, write a logical condition to test whether his weight is between 75kgs and 100kgs \n",
    "\n",
    "# b) Without using 'AND', write a logical condition to test whether his weight is between 75kgs and 100kgs\n"
   ]
  },
  {
   "cell_type": "code",
   "execution_count": 1,
   "metadata": {},
   "outputs": [],
   "source": [
    "# 2. There are 3 friends A, B and C whose monthly salaries are Rs.60,000 , Rs.75,000 and Rs.90,000 respectively. \n",
    "\n",
    "# a) Is this statement true or false: \"A's salary is less than the average of their salaries and C's salary is greater \n",
    "# than the average of their salaries\"?\n",
    "\n",
    "# b) Is this statement true or false: \"At least one of the 3 friends has a salary equal to the average of their salaries\"?\n",
    "\n",
    "# c) Is this statement true or false: \"A's salary is not more than Rs.70,000\"? (with and without the NOT operator) \n"
   ]
  },
  {
   "cell_type": "code",
   "execution_count": 4,
   "metadata": {},
   "outputs": [],
   "source": [
    "# 3. A husband and wife are 45 and 38 years old respectively. \n",
    "\n",
    "# a) Write a condition to test whether the age difference bewteen them is either less than 3 years or at least than 7 years \n",
    "\n",
    "# b) Write a condition to test whether the husband is in his forties and the wife is in her thirties.\n"
   ]
  },
  {
   "cell_type": "markdown",
   "metadata": {},
   "source": [
    "### *Congratulations! You now know how to use logical operators in Python. Keep going!*\n"
   ]
  }
 ],
 "metadata": {
  "kernelspec": {
   "display_name": "Python 3",
   "language": "python",
   "name": "python3"
  },
  "language_info": {
   "codemirror_mode": {
    "name": "ipython",
    "version": 3
   },
   "file_extension": ".py",
   "mimetype": "text/x-python",
   "name": "python",
   "nbconvert_exporter": "python",
   "pygments_lexer": "ipython3",
   "version": "3.7.5"
  }
 },
 "nbformat": 4,
 "nbformat_minor": 2
}
