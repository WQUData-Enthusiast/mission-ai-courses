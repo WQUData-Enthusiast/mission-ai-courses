{
 "cells": [
  {
   "cell_type": "markdown",
   "metadata": {},
   "source": [
    "# Module 4 - Basics of Variables\n",
    "---\n",
    "This module will get you familiarised with the concept of variables in Python, and how to get started using them."
   ]
  },
  {
   "cell_type": "markdown",
   "metadata": {},
   "source": [
    "## *1. What is a variable?*\n",
    "---\n",
    "\n",
    "A variable is a `placeholder for a value that we store` in Python. Technically, a variable is a `reserved memory location` to store an object.\n",
    "\n",
    "> We get data into Python or create data within Python. Where do we store it? *Variables!*\n",
    "\n",
    "> We then manipulate the data, create intermediate results and save the output. How do we use and reference the data and intermediate results? *Variables!*"
   ]
  },
  {
   "cell_type": "markdown",
   "metadata": {},
   "source": [
    "## *2. Rules for naming variables:*\n",
    "---\n",
    "\n",
    "Valid variable names in Python follow these rules:\n",
    "- Start with a letter or the underscore character, not a number. \n",
    "- Only contain alphanumeric characters and underscores (A-z, 0-9, and _ ) \n",
    "- No spaces in the name\n",
    "- Cannot be identical to reserved words in Python like `str`, `print`, etc. If there is a logical name for your variable and it conflicts with a Python reserved keyword, then use a single trailing underscore: `var_`\n",
    "\n",
    "Also remember, variable names in Python are `case-sensitive` ('Size', 'size' and 'SIZE' are three different variables)\n",
    "\n",
    "Make sure that you give `meaningful names to your variables` so that other your code is readable and maintainable.\n",
    "```Python\n",
    "# Examples of invalid variable names\n",
    "9a=6 \n",
    "# (starting with a number)\n",
    "\n",
    "a~5 = 4 \n",
    "# (special character other than _)\n",
    "\n",
    "# Examples of valid variable names \n",
    "var = \"Hello World!\"\n",
    "a_1 = 5\n",
    "X23 = 10.3\n",
    "_X = True\n",
    "```"
   ]
  },
  {
   "cell_type": "markdown",
   "metadata": {},
   "source": [
    "## *3. Important characteristics of variables:*\n",
    "---\n",
    "\n",
    "In Python, `every variable is an object` which has:\n",
    "- type \n",
    "- identity (reference) \n",
    "- value\n",
    "\n",
    "Let's write the following code to observe this in action:\n",
    "```Python\n",
    "a=5 \n",
    "# '=' assigns a value to the variable\n",
    "print(type(a))\n",
    "print(id(a))\n",
    "print(a)\n",
    "```\n",
    "\n",
    "In the code above - type(), id() and print() are called `built-in functions`. Python has many built-in functions. it also gives you the ability to define your own functions."
   ]
  },
  {
   "cell_type": "code",
   "execution_count": 1,
   "metadata": {},
   "outputs": [],
   "source": [
    "# Exercise:\n",
    "\n",
    "# 1. create a variable called 'var' and assign it a value of 10.\n",
    "\n",
    "\n",
    "# 2. print the value, type and reference of the 'var'\n",
    "\n"
   ]
  },
  {
   "cell_type": "markdown",
   "metadata": {},
   "source": [
    "### Remember, Python is a dynamically-typed, strongly-typed language\n",
    "\n",
    "> **Dynamically-typed** means that the type of a variable / object is `not explicitly declared`, but instead it is inferred.\n",
    "\n",
    "> **Strongly-typed** means that variables cannot be `coerced to unrelated types, or perform opertions intended for other types`.\n",
    "\n",
    "> **It is not weakly-typed, as that would mean that the same memory block is being re-interpreted in a different way. Strong typing means that once assigned a value of a particular kind, objects obey strict rules about how they can interact with other objects of various types. Weak typing means that such rules are more relaxed. This doesn't mean that strongly typed languages are necessarily superior in any way; it's just a language design choice.  1 + \"1\" = error. The address changes when you assign some new value to a variable, because other than list/dict/set, all other object types are immutable. So you aren't changing the vaue as much as creating a new variable** \n",
    "\n",
    "> Immutability is a different concept - The contents of the memory locations, at any given point in the program’s execution, is called the program’s state. When the state of an object cannot be altered after creation, it is immutable\n",
    "\n",
    "> A variable points to an object with a certain value. Python creates only 1 object with a certain value. It wont allow multiple memory locations to store the same value (say 1000).  If we declare multiple variables with the same value, they are effectively aliases that will have the same id. In effect, all these variables point to the same object in memory. \n",
    "x=\"Bazinga\"\n",
    "y=\"Bazinga\"\n",
    "id(x)==id(y) # true\n",
    "\n",
    "Python is considered strongly typed because objects have a distinct notion of what they type they are. Incompatible operations between objects cause errors\n",
    "\n",
    "The following code is proof that python is dynamically-typed and weakly-typed.\n",
    "```Python\n",
    "a=4 # we are not declaring a type explicitly\n",
    "a=5.6 \n",
    "a=\"xyz\" # we are coercing the variable to a different type (string) \n",
    "print(a) \n",
    "```\n"
   ]
  },
  {
   "cell_type": "code",
   "execution_count": 2,
   "metadata": {},
   "outputs": [],
   "source": [
    "# Exercise: \n",
    "\n",
    "# 1. create a variable called 'mixed' and assign it the value 7.8\n",
    "\n",
    "\n",
    "# 2. print out the type and value of 'mixed'\n",
    "\n",
    "\n",
    "# 3. now assign a new value to 'mixed' - the string \"this is a string\"\n",
    "\n",
    "\n",
    "# 4. print out the new type and value of 'mixed'\n",
    "\n",
    "\n",
    "# 5. how does this demonstrate weak-typing and dynamic-typing?\n",
    "\n"
   ]
  },
  {
   "cell_type": "markdown",
   "metadata": {},
   "source": [
    "### *Congratulations! You have now mastered the basics of Python variables*"
   ]
  }
 ],
 "metadata": {
  "kernelspec": {
   "display_name": "Python 3",
   "language": "python",
   "name": "python3"
  },
  "language_info": {
   "codemirror_mode": {
    "name": "ipython",
    "version": 3
   },
   "file_extension": ".py",
   "mimetype": "text/x-python",
   "name": "python",
   "nbconvert_exporter": "python",
   "pygments_lexer": "ipython3",
   "version": "3.7.5"
  }
 },
 "nbformat": 4,
 "nbformat_minor": 2
}