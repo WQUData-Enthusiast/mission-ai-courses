{
 "cells": [
  {
   "cell_type": "markdown",
   "metadata": {},
   "source": [
    "# Module 5 - Basic Data Types in Python\n",
    "---\n",
    "In this module, we will explore the different types of basic data types and variables, the operations that we can do on them, as well as some basic built-in Python functions"
   ]
  },
  {
   "cell_type": "markdown",
   "metadata": {},
   "source": [
    "## 1) None: \n",
    "The Null / None data type holds a `NULL value`, i.e., it contains *NO VALUE*. It is used to denote a `missing or empty value`. \n",
    "```Python\n",
    "x = None\n",
    "print(x)\n",
    "print(type(x))\n",
    "```"
   ]
  },
  {
   "cell_type": "code",
   "execution_count": 1,
   "metadata": {},
   "outputs": [],
   "source": [
    "# Exercise: \n",
    "\n",
    "# 1. create a null variable called 'null_var' with the value 'None'. What is its value and type?\n",
    "\n"
   ]
  },
  {
   "cell_type": "markdown",
   "metadata": {},
   "source": [
    "## 2) Integer: \n",
    "The Integer data type holds `whole numbers (negative and positive) that don't contain decimal places`, i.e., *discrete values*.\n",
    "\n",
    "Examples:\n",
    "- *Number of students in a classroom*\n",
    "- *Age of an employee in years*\n",
    "- *Number of pairs of shoes sold daily*\n",
    "```Python\n",
    "x = 5\n",
    "print(x)\n",
    "print(type(x))\n",
    "```"
   ]
  },
  {
   "cell_type": "code",
   "execution_count": 2,
   "metadata": {},
   "outputs": [],
   "source": [
    "# Exercise\n",
    "\n",
    "# 1. create a variable called 'num_shoes_sold_daily' and assign it a value of 85. Print out its value and type.\n"
   ]
  },
  {
   "cell_type": "markdown",
   "metadata": {},
   "source": [
    "## 3) Float: \n",
    "The Float data type contains `numbers that have decimal places`,i.e., *continuous values*. It can theoretically take any of an infinite number of values.  \n",
    "\n",
    "Examples:\n",
    "- *Average revenue per user*\n",
    "- *Height in metres*\n",
    "- *Average distance travelled per day*\n",
    "```Python\n",
    "x=8.9\n",
    "print(x)\n",
    "print(type(x))\n",
    "```"
   ]
  },
  {
   "cell_type": "code",
   "execution_count": null,
   "metadata": {},
   "outputs": [],
   "source": [
    "# Exercise\n",
    "\n",
    "# 1. create  variable called 'height_in_mts' and assign it a value of '1.93'. Print out its value and type.\n"
   ]
  },
  {
   "cell_type": "markdown",
   "metadata": {},
   "source": [
    "## 4) Boolean: \n",
    "The Boolean data type contains the `Logical 'True' or 'False'`,i.e., it can be used to store indicators or \"Yes/No\" answers.  \n",
    "\n",
    "Examples:\n",
    "- *Has the candidate graduated from college?*\n",
    "- *Is the customer's age greater than 40?*\n",
    "- *Is the patient female?*\n",
    "\n",
    "```Python\n",
    "x=True\n",
    "print(x)\n",
    "\n",
    "x=False\n",
    "print(x)\n",
    "print(type(x))\n",
    "```"
   ]
  },
  {
   "cell_type": "code",
   "execution_count": 5,
   "metadata": {},
   "outputs": [],
   "source": [
    "# Exercise \n",
    "\n",
    "# 1. create a variable called 'female_patient' and assign it a value of 'True'. Print out the value and type of the variable.\n"
   ]
  },
  {
   "cell_type": "markdown",
   "metadata": {},
   "source": [
    "### *Congratulations! You are now a master of Python's basic data types. Keep going!*"
   ]
  }
 ],
 "metadata": {
  "kernelspec": {
   "display_name": "Python 3",
   "language": "python",
   "name": "python3"
  },
  "language_info": {
   "codemirror_mode": {
    "name": "ipython",
    "version": 3
   },
   "file_extension": ".py",
   "mimetype": "text/x-python",
   "name": "python",
   "nbconvert_exporter": "python",
   "pygments_lexer": "ipython3",
   "version": "3.7.5"
  }
 },
 "nbformat": 4,
 "nbformat_minor": 2
}
