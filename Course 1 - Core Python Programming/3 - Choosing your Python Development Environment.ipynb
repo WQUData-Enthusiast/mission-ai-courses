{
 "cells": [
  {
   "cell_type": "markdown",
   "metadata": {},
   "source": [
    "# Module 3 - Choosing your Python development environment\n",
    "---\n",
    "You can select any of the following options to develop Python programs:\t\t\t"
   ]
  },
  {
   "cell_type": "markdown",
   "metadata": {},
   "source": [
    "## Option 1) Using Python in Interactive Mode:\n",
    "> - This option is also called \"read–eval–print loop (REPL)\"\t\n",
    "> - Open up a command prompt (cmd)\t\t\n",
    "> - Type the following command: `python` (or `python3`)\n",
    "> - The program will now enter interactive mode. Type in your code. It gets executed when you press enter. Once you're done, type \"quit()\" or \"Ctrl Z\" and hit Enter\t\t\t\t\t"
   ]
  },
  {
   "cell_type": "markdown",
   "metadata": {},
   "source": [
    "## Option 2) Text Editor like Notepad:\n",
    "> - Write your code in any text editor. Save the file with a \".py\" extension\t\t\t\n",
    "> - Open up a command prompt (cmd)\t\t\t\n",
    "> - Type the following command: `python path_to_your_file\\file_name.py` (or `python3 path_to_your_file\\file_name.py`)\n",
    "> - The program will now be executed, and you will see the output in the console\t\t\t\t\t\t"
   ]
  },
  {
   "cell_type": "markdown",
   "metadata": {},
   "source": [
    "## Option 3) Free IDE like Visual Studio Code or PyCharm Community edition:\n",
    "> - Within Visual Studio Code, install the \"Python\" extension\t\t\t\n",
    "> - It automatically detects the Python interpreter that is referenced in the PATH variable\t\t\t\n",
    "> - Create your .py file, write the code and execute from within the IDE, either with the \"Run\" button or using the Command Palette (Ctrl+Shift+P)\n",
    "> - Using an IDE is a good option since has code completion and intellisense. So writing code becomes easier and quicker, and you can do everything you need without leaving the IDE"
   ]
  },
  {
   "cell_type": "markdown",
   "metadata": {},
   "source": [
    "## Option 4) Jupyter Notebooks:\n",
    "> - Jupyter Notebook is an interactive computing environment that lets you create and share documents that contain live code, equations, visualizations and narrative text\n",
    "> - If you installed the standard Python distribution, then type the command `pip install jupyterlab`\t\t\t\n",
    "> - If you have the Anaconda distribution, Jupyter Notebook is already installed. (Just open Anaconda Navigator and then open Jupyter Notebook from within that environment)\n",
    "> - To run Jupyter Notebook, just run the following command in the command line prompt: `jupyter notebook`. It will open a new tab in your web browser.\t\t\t\n",
    "> - Create a new jupyter notebook file (.ipynb extension), write your code in the code cells and run each code cell as and when required\n",
    "> - To stop Jupyter Notebook, type \"Ctrl C\" in the command prompt where you started Jupyter Notebook."
   ]
  },
  {
   "cell_type": "markdown",
   "metadata": {},
   "source": [
    "## Option 5) Google Colab:\n",
    "> - Google Colab is like Jupyter Notebook for your Google Drive. All the computation is done in the cloud. \t\t\t\n",
    "> - Go to https://colab.research.google.com/\t\t\t\n",
    "> - Just like with Jupyter Notebook on your system, you can Create a new notebook, type your code into a Code Cell, Save the notebook and run it. \t"
   ]
  },
  {
   "cell_type": "markdown",
   "metadata": {},
   "source": [
    "### *Now choose your preferred environment and start developing your Python skills !*"
   ]
  }
 ],
 "metadata": {
  "kernelspec": {
   "display_name": "Python 3",
   "language": "python",
   "name": "python3"
  },
  "language_info": {
   "codemirror_mode": {
    "name": "ipython",
    "version": 3
   },
   "file_extension": ".py",
   "mimetype": "text/x-python",
   "name": "python",
   "nbconvert_exporter": "python",
   "pygments_lexer": "ipython3",
   "version": "3.7.5"
  }
 },
 "nbformat": 4,
 "nbformat_minor": 2
}
