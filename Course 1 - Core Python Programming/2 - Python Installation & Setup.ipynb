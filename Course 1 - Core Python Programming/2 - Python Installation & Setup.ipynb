{
 "cells": [
  {
   "cell_type": "markdown",
   "metadata": {},
   "source": [
    "# Module 2 - Python Installation & Setup\n",
    "---\n",
    "This module is intended to help you get started with Python minimal fuss. To install and set up Python on your computer, follow these steps:"
   ]
  },
  {
   "cell_type": "markdown",
   "metadata": {},
   "source": [
    "## 1) Getting python:\n",
    "> - You can download the Python installer from [python.org](https://www.python.org/downloads). Installers are available for Windows, Mac and Linux.\n",
    ">- You can also get [Anaconda](https://www.anaconda.com/distribution/), which is the most popular Python distribution for Data Science - it comes pre-loaded with all the data science libraries that you'll need."
   ]
  },
  {
   "cell_type": "markdown",
   "metadata": {},
   "source": [
    "## 2) Running the installer:\n",
    ">- Execute the installer. It will install Python on your system. \n",
    ">- Make sure to select the \"Add Python to PATH\" option during installation. "
   ]
  },
  {
   "cell_type": "markdown",
   "metadata": {},
   "source": [
    "## 3) Check if the PATH environment variable has been set correctly:\n",
    ">- The PATH variable stores the locations of different directories where your executable files and binaries exist. Whenever you type any command in the terminal, or when one program calls another without its whole path, the OS first tries to find the command definition in the current working directory, and then in all the paths mentioned in PATH variable.\n",
    ">- In Windows, navigate to \"Environment Variables\" in system settings and locate the \"Path\" environment variable. It should contain the Python Application path and the Python Scripts path. \n",
    ">- If it hasn't been set already, you can also add Python to your path manually. Navigate to \"Environment Variables\" in system settings and locate the \"Path\" environment variable (create it if it doesn't exist). You will need to add 2 folders to the \"Path\" variable: The Python application path, which is the folder where you originally installed Python; and The Python Scripts path. The Scripts folder should be located within the Python application path. Add the complete paths, and make sure you add semi-colons as separators.\n",
    ">- In Mac and Linux, add the Python directory (/usr/local/bin/python) to the PATH environment variable in the ksh or bash shell\t\t"
   ]
  },
  {
   "cell_type": "markdown",
   "metadata": {},
   "source": [
    "## 4) Test your Python installation:\n",
    ">- Open a command line prompt, and run the following command: `python --version` (or `python3 --version`). It should show you the version of Python installed on your machine. \n",
    ">- If it throws an error, make sure that you have add the Python directories to the PATH environment variable.\t"
   ]
  },
  {
   "cell_type": "markdown",
   "metadata": {},
   "source": [
    "### *Congratulations! You have successfully installed and set up Python on your system. You're now ready to choose and set up your development environment*\t"
   ]
  }
 ],
 "metadata": {
  "kernelspec": {
   "display_name": "Python 3",
   "language": "python",
   "name": "python3"
  },
  "language_info": {
   "codemirror_mode": {
    "name": "ipython",
    "version": 3
   },
   "file_extension": ".py",
   "mimetype": "text/x-python",
   "name": "python",
   "nbconvert_exporter": "python",
   "pygments_lexer": "ipython3",
   "version": "3.7.5"
  }
 },
 "nbformat": 4,
 "nbformat_minor": 2
}
