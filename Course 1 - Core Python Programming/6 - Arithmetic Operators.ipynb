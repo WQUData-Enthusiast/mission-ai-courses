{
 "cells": [
  {
   "cell_type": "markdown",
   "metadata": {},
   "source": [
    "# Module 6 - Arithmetic Operators\n",
    "---\n",
    "\n",
    "In this module, we will explore the different arithmetic operators that Python provides. "
   ]
  },
  {
   "cell_type": "markdown",
   "metadata": {},
   "source": [
    "Python's arithmetic operators are used to `perform calculations` on numeric variables (int and float). Some of these operators also work on strings and lists, but we'll explore those operations later on:\n",
    "\n",
    "<table style=\"float:left;width:40%;font-size:100%;\">\n",
    "<tr>\n",
    "<th>Operator</th>\n",
    "<th>Operation</th>\n",
    "</tr>\n",
    "\n",
    "<tr>\n",
    "<td>+</td>\n",
    "<td>Addition</td>\n",
    "</tr>\n",
    "\n",
    "<tr>\n",
    "<td>-</td>\n",
    "<td>Subtraction</td>\n",
    "</tr>\n",
    "\n",
    "<tr>\n",
    "<td>*</td>\n",
    "<td>Multiplication</td>\n",
    "</tr>\n",
    "\n",
    "<tr>\n",
    "<td>/</td>\n",
    "<td>Division</td>\n",
    "</tr>\n",
    "    \n",
    "<tr>\n",
    "<td>%</td>\n",
    "<td>Mod / Modulo</td>\n",
    "</tr>\n",
    "\n",
    "<tr>\n",
    "<td>**</td>\n",
    "<td>Exponent - to the power of</td>\n",
    "</tr>\n",
    "\n",
    "<tr>\n",
    "<td>//</td>\n",
    "<td>Floor division</td>\n",
    "</tr>\n",
    "    \n",
    "</table>  "
   ]
  },
  {
   "cell_type": "code",
   "execution_count": 1,
   "metadata": {},
   "outputs": [],
   "source": [
    "# Exercises\n",
    "\n",
    "# 1. Create 2 variables 'a' and 'b'. \n",
    "# Assign 'a' a value of 4, and 'b' a value of 5. \n",
    "# Find a+b, a-b,a*b, b/a, b//a, b%a and a**b\n"
   ]
  },
  {
   "cell_type": "code",
   "execution_count": 2,
   "metadata": {},
   "outputs": [],
   "source": [
    "# 2. Create a variable called \"q2_days\" to calculate the number of days in the 2nd quarter of the year - April, May, June. \n",
    "# What is the value and type of \"q2_days\"? \n"
   ]
  },
  {
   "cell_type": "code",
   "execution_count": 3,
   "metadata": {},
   "outputs": [],
   "source": [
    "# 3. Create a variable called \"num_seconds\" to calculate the number of seconds in a non-leap-year. \n",
    "# What is the value and type of \"num_seconds\"? \n"
   ]
  },
  {
   "cell_type": "code",
   "execution_count": 4,
   "metadata": {},
   "outputs": [],
   "source": [
    "# 4. Create a variable called \"q3_days\" to calculate the number of days in the 3rd quarter of the year- July, Aug, Sep. \n",
    "# Find the difference in value between \"q2_days\" (created in exercise 2) and \"q3_days\"\n"
   ]
  },
  {
   "cell_type": "code",
   "execution_count": 5,
   "metadata": {},
   "outputs": [],
   "source": [
    "# 5. A company had 50,000 customers in Jan. They lost 2,875 customers in Feb. \n",
    "\n",
    "# a) How many customers are remaining?\n",
    "\n",
    "# b) If the remaining customers spend an average of 20 dollars a month, how much monthly revenue can the company expect?\n"
   ]
  },
  {
   "cell_type": "code",
   "execution_count": 6,
   "metadata": {},
   "outputs": [],
   "source": [
    "# 6. A company spends 120000 rupees a month on catering services for its employees. \n",
    "# There are 40 employees, 25 working days per month, and 3 meals per day. \n",
    "# What is the average amount spent per employee per meal? What data type is the result variable?\n"
   ]
  },
  {
   "cell_type": "code",
   "execution_count": 7,
   "metadata": {},
   "outputs": [],
   "source": [
    "# 7. A company orders 100 boxes of sweets to be evenly divided between 24 employees. \n",
    "# The remaining boxes are donated to charity.\n",
    "\n",
    "# a) How many boxes of sweets were donated? \n",
    "\n",
    "# b) How many boxes of sweets does each employee get? \n"
   ]
  },
  {
   "cell_type": "code",
   "execution_count": 8,
   "metadata": {},
   "outputs": [],
   "source": [
    "# 8. A working professional decided to invest Rs. 6,00,000 in a fixed deposit at 7% per year for 3 years (compound interest). \n",
    "# Create a variable called \"total_sum\" to calculate the total sum he received at the end of 3 years. \n",
    "# What is the type of the \"total_sum\" variable? \n"
   ]
  },
  {
   "cell_type": "markdown",
   "metadata": {},
   "source": [
    "### *Congratulations! You now know how to use arithmetic operators in Python. Continue exploring!*\n"
   ]
  }
 ],
 "metadata": {
  "kernelspec": {
   "display_name": "Python 3",
   "language": "python",
   "name": "python3"
  },
  "language_info": {
   "codemirror_mode": {
    "name": "ipython",
    "version": 3
   },
   "file_extension": ".py",
   "mimetype": "text/x-python",
   "name": "python",
   "nbconvert_exporter": "python",
   "pygments_lexer": "ipython3",
   "version": "3.7.5"
  }
 },
 "nbformat": 4,
 "nbformat_minor": 2
}
