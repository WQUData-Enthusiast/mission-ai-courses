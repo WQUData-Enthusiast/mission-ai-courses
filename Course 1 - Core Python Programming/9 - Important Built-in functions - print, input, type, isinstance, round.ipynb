{
 "cells": [
  {
   "cell_type": "markdown",
   "metadata": {},
   "source": [
    "# Module 9 - Built-in functions\n",
    "---\n",
    "\n",
    "This module gives us a look at Python's basic built-in functions in a little more detail. We have already come across a few built-in in the previous modules. For now, just understand that we need to call a function by its name and optionally send it some important information that it needs as `arguments` within brackets."
   ]
  },
  {
   "cell_type": "markdown",
   "metadata": {},
   "source": [
    "## 1) print()\n",
    "\n",
    "The print() function is the easiest way to produce output in Python. It converts all the variables/expressions/values that you pass into a string, and then writes that string to the screen. It is extremely useful for debugging, to make sure that your code works as intended.\n",
    "\n",
    "Syntax: `print(value(s), sep=' ', end = ‘\\n’)`\n",
    "\n",
    "The default separator is `single space ' '` and the default ending of the string is the `newline character '\\n'`. The `separator` argument is used when we pass multiple values to be printed in 1 print statement. The `ending` argument is comes into play when we consider how the output of consecutive print statements are delineated. More often than not, we DO NOT specify these arguments because there is rarely a need to change the default valules. \n",
    "```Python\n",
    "print(5+9) # expression\n",
    "x=400\n",
    "print(x) # variable\n",
    "print(50<49) # expression\n",
    "print(5,9) # values\n",
    "\n",
    "print(5,9,sep='-',end='X')\n",
    "print(\"This was supposed to start on a new line, but i changed the default ending\")\n",
    "\n",
    "```"
   ]
  },
  {
   "cell_type": "code",
   "execution_count": 1,
   "metadata": {},
   "outputs": [],
   "source": [
    "# Exercise\n",
    "# 1. print out the sum of 9 and 23\n"
   ]
  },
  {
   "cell_type": "code",
   "execution_count": 2,
   "metadata": {},
   "outputs": [],
   "source": [
    "# 2. print out the value of a variable called 'height' which has the value of 193.5\n"
   ]
  },
  {
   "cell_type": "code",
   "execution_count": 3,
   "metadata": {},
   "outputs": [],
   "source": [
    "# 3. print out the result of the expression '150 < 148'\n"
   ]
  },
  {
   "cell_type": "code",
   "execution_count": 4,
   "metadata": {},
   "outputs": [],
   "source": [
    "# 4. print out the values of 3 varibles'x','y','z' with the values 10, 12, 14 respectively (using only 1 print statement)\n"
   ]
  },
  {
   "cell_type": "code",
   "execution_count": 5,
   "metadata": {},
   "outputs": [],
   "source": [
    "# 5. print out the numbers 5 and 10, separated by '---' and ending with '!!!'\n"
   ]
  },
  {
   "cell_type": "markdown",
   "metadata": {},
   "source": [
    "## 2) input()\n",
    "\n",
    "The input() function `accepts user input and stores it as a string`. This function is helpful when our program changes its behaviour based on a user's input - like a quiz game, or the value of a machine learning parameter. You can pass the message prompting user input as the argument to the input() function.\n",
    "\n",
    "```Python\n",
    "my_input_name = input(\"Please enter your name\") # stops and waits for user input\n",
    "print(\"Hi\", my_input_name, \"! Its a pleasure to meet you.\") \n",
    "print(type(my_input_name))\n",
    "\n",
    "my_input_age = input(\"Please enter your age\")\n",
    "print(\"Oh good! You're\", my_input_age, \"years old.\")\n",
    "print(type(my_input_age))\n",
    "print(type(int(my_input_age))) # make sure the value can be converted\n",
    "\n",
    "```"
   ]
  },
  {
   "cell_type": "code",
   "execution_count": 6,
   "metadata": {},
   "outputs": [],
   "source": [
    "# Exercise\n",
    "\n",
    "# 1a. Ask the user to enter his/her name, and store the value in a variable called 'user_name'\n",
    "# Display a customised greeting to the user containing the recently-entered name 'Hi <name> ! Welcome to our store'\n",
    "\n",
    "# 1b. Ask the user to enter his/her age and store it in a variable called 'user_age'\n",
    "# Display a message with the user name and age 'Name: <name> Age: <age>'\n"
   ]
  },
  {
   "cell_type": "markdown",
   "metadata": {},
   "source": [
    "## 3) type()\n",
    "\n",
    "The type() function `returns the data type of a variable/value/expression`. Or in Python terms, it returns the class type of the object passed as parameter. (Remember in Python, everything is an object with a type, identity and value)\n",
    "\n",
    "```Python\n",
    "print(type(1)) # int\n",
    "print(type(1.0)) # float\n",
    "print(type(True)) # bool\n",
    "print(type(\"Hello\")) # string\n",
    "```\n",
    "\n",
    "The type() function becomes a lot more powerful when used in conjunction with the `is` keyword. It is very important to remember that the `==` equality comparison refers *only to values*. The `is` keyword checks if the 2 arguments refer to the *same object*. \n",
    "\n",
    "```Python\n",
    "print([] == []) # True, because the values of the 2 lists are equal\n",
    "print([] is []) # False, because they are 2 separate objects with the same value\n",
    "\n",
    "\n",
    "print(type(1) == 'int') \n",
    "# False, because type(1) returns the class type 'int', while the right hand side is a string with value 'int' \n",
    "\n",
    "print(type(1) is int) \n",
    "# True, because the right hand side is now the reserved keyword 'int', which refers to the integer class type \n",
    "\n",
    "```"
   ]
  },
  {
   "cell_type": "code",
   "execution_count": 7,
   "metadata": {},
   "outputs": [],
   "source": [
    "# Exercise\n",
    "# 1a. Create a variable called 'customer_spend' and assign it the value 7.54. What is the type of the variable?\n",
    "\n",
    "# 1b. Test if the type of the variable 'customer_spend' is 'int' using the 'is' keyword\n"
   ]
  },
  {
   "cell_type": "code",
   "execution_count": 10,
   "metadata": {},
   "outputs": [],
   "source": [
    "# 2. Create a variable called 'is_customer' and assign it the value 'True'. \n",
    "# What is the type of the variable?\n"
   ]
  },
  {
   "cell_type": "markdown",
   "metadata": {},
   "source": [
    "## 4) isinstance()\n",
    "\n",
    "The isinstance() `returns true if the 1st argument (value/expression/variable) is an instance of a particular class (2nd argument)`. For the 2nd argument, you can pass a comm-separated gruop of values within brackets.\n",
    "\n",
    "```Python\n",
    "print(isinstance(2,int)) # returns True\n",
    "# Same as: print(type(2) is int)\n",
    "print(isinstance(2.65,int)) # returns False, because the value is a 'float'\n",
    "print(isinstance(1,(int,float))) # returns True, because the value is 'int', which is contained in the list of types\n",
    "```"
   ]
  },
  {
   "cell_type": "code",
   "execution_count": 11,
   "metadata": {},
   "outputs": [],
   "source": [
    "# Exercise\n",
    "\n",
    "# 1. Is the value 3.75 an instance of the class 'int' ?\n"
   ]
  },
  {
   "cell_type": "code",
   "execution_count": 12,
   "metadata": {},
   "outputs": [],
   "source": [
    "# 2. True or False: a variable with value 'True' is either a 'float' or 'int'\n"
   ]
  },
  {
   "cell_type": "markdown",
   "metadata": {},
   "source": [
    "## 5) round()\n",
    "\n",
    "The round() function `rounds the input value to the nearest integer (if no 2nd argument is passed), or to the specified number of decimal places (if the 2nd argument is passed)`. It is a useful arithmetic function to know.\n",
    "\n",
    "```Python\n",
    "print(round(2.65)) # rounds up to 3\n",
    "print(round(2.4))  # rounds down to 2\n",
    "print(round(2.666, 2)) # rounds to 2.67 - 2 decimal places\n",
    "\n",
    "```"
   ]
  },
  {
   "cell_type": "code",
   "execution_count": 13,
   "metadata": {},
   "outputs": [],
   "source": [
    "# Exercise\n",
    "\n",
    "# 1. The average exam score is 78.7. Round it off to the nearest integer\n"
   ]
  },
  {
   "cell_type": "code",
   "execution_count": 14,
   "metadata": {},
   "outputs": [],
   "source": [
    "# 2. The value of pi is 3.14159. Find the value of pi to 3 decimal place.\n"
   ]
  },
  {
   "cell_type": "markdown",
   "metadata": {},
   "source": [
    "### *Great job! You have explored some of Python's most important built-in functions. Lets continue learning*"
   ]
  }
 ],
 "metadata": {
  "kernelspec": {
   "display_name": "Python 3",
   "language": "python",
   "name": "python3"
  },
  "language_info": {
   "codemirror_mode": {
    "name": "ipython",
    "version": 3
   },
   "file_extension": ".py",
   "mimetype": "text/x-python",
   "name": "python",
   "nbconvert_exporter": "python",
   "pygments_lexer": "ipython3",
   "version": "3.7.5"
  }
 },
 "nbformat": 4,
 "nbformat_minor": 2
}
