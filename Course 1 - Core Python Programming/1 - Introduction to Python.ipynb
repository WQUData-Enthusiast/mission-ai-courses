{
 "cells": [
  {
   "cell_type": "markdown",
   "metadata": {},
   "source": [
    "# Module 1 - Introduction to Python\n",
    "---\n",
    "This module is intended to provide you with context about the Python language and its uses in industry.\n"
   ]
  },
  {
   "cell_type": "markdown",
   "metadata": {},
   "source": [
    "## _1. What is Python ?_\n",
    "---\n",
    "\n",
    "Python is a **general-purpose, high-level, interpreted** programming language.\n",
    "\n",
    "Lets break that statement down, bit by bit. \n",
    "\n",
    "A `general-purpose programming language` is designed to be used for writing software in the widest variety of application domains. It does not include domain-specific language constructs. Examples are Java, C, PHP, Visual Basic, etc. The opposite of a general-purpose programming language is a domain-specific programming language. Examples of domain-specific programming languages: HTML for constructing web pages, SQL for communciating with databases.\n",
    "\n",
    "A `high-level programming language` is a programming language which hides away inner details of the computer like registers, memory addresses and call stacks. It abstracts the details of machine hardware, making the process of developing a program simpler and more understandable than when using a lower-level language. High-level languages deal with variables, arrays, objects, complex arithmetic or boolean expressions, subroutines and functions, loops, threads, locks, and other abstract computer science concepts, with a focus on usability over optimal program efficiency. \n",
    "\n",
    "An `interpreted language` is a type of programming language which executes program instructions directly, without previously compiling a program into machine-language instructions. In the case of Python, the intermediate representation is created each time there is a change in the source before execution. In the case of Ruby, it is created each time before execution. In the case of Java (a compiled language), the intermediate representation is created once and for all by compiling into .class file. Interpreted languages are typically called scripting languages, like PHP, Perl, Python (Server-side) & Javascript (Client-side)."
   ]
  },
  {
   "cell_type": "markdown",
   "metadata": {},
   "source": [
    "## _2. Some fun facts about Python:_\n",
    "---\n",
    "\n",
    "- Created and released by `Guido Van Rossum` in 1991. He has been named the \"Benevolent Dictator For Life\" by the Python community\t\n",
    "- `Open-source license`, which means it can be freely used and distributed, even for commerical purposes\t\n",
    "- Administered by the [Python Software Foundation](https://www.python.org)\t\n",
    "- Python has a lot of additional libraries and packages. `PyPI` - the Python Package Index is the official repository of all 3rd party Python software\n",
    "- `pip` is the recommended package manager for Python. It installs libraries from the PyPI repository\t\n",
    "- Python is written in C, so you will see a lot of cases where companies use Python in combination with C/C++\t\n",
    "- Python has a strong focus on readability with `indentation` and blocks. It has clean, precise syntax, making it easy to learn\n",
    "- It is considered a `batteries-included` programming language due to its comprehensive standard library (core functionality)\n",
    "- From 1st Jan, 2020, only Python versions >= 3.5 are supported, and Python 2.x version support is discontinued"
   ]
  },
  {
   "cell_type": "markdown",
   "metadata": {},
   "source": [
    "## _3. Main uses of Python:_\n",
    "---\n",
    "\n",
    "- **Data Science**: *Statistics, Machine Learning, Deep Learning and Artificial Intelligence workflows, Scientific & Numerical Computing*. \n",
    "> Several surveys show that Python is the most popular platform in the data science industry for Machine Learning, Deep Learning and AI. Many of the most popular ML/DL libraries like scikit-learn, tensorflow and keras are native to Python. Python also beats R in execution speed. However, R is popular in the academic and research worlds. R still holds a slight edge in statistical analysis\t\t\n",
    "\t\t\n",
    "- **Web development**: *Back-end server-side development using Django, Pyramid, Flask frameworks*\n",
    "> Instagram currently features the world’s largest deployment of the Django web framework, which is written entirely in Python.\n",
    "> Google has a \"Python where we can, C++ where we must.” policy. \n",
    "> YouTube, Spotify, Netflix, Uber and Dropbox all use Python for back-end development.\t\n",
    "\t\t\n",
    "- **General-purpose programming**: *Achieving tasks through code, automating routine tasks, etc.*\n",
    "> Python is a multi-paradigm language - supporting procedural, object-oriented as well as functional programming. Some common programming tasks include scraping the web, processing data, creating commercial software, and building graphical user interfaces. "
   ]
  },
  {
   "cell_type": "markdown",
   "metadata": {},
   "source": [
    "### *You've learnt a little bit about Python and its place in the world. You are now ready to install and set up Python on your system*"
   ]
  }
 ],
 "metadata": {
  "kernelspec": {
   "display_name": "Python 3",
   "language": "python",
   "name": "python3"
  },
  "language_info": {
   "codemirror_mode": {
    "name": "ipython",
    "version": 3
   },
   "file_extension": ".py",
   "mimetype": "text/x-python",
   "name": "python",
   "nbconvert_exporter": "python",
   "pygments_lexer": "ipython3",
   "version": "3.7.5"
  }
 },
 "nbformat": 4,
 "nbformat_minor": 2
}
